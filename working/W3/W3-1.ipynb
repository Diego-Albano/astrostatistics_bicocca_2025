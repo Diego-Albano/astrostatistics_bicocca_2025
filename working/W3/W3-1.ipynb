{
 "cells": [
  {
   "cell_type": "code",
   "execution_count": 5,
   "metadata": {},
   "outputs": [],
   "source": [
    "import numpy as np\n",
    "import  scipy.stats\n",
    "import pylab as plt\n",
    "plt.rcParams['figure.figsize'] = [8, 8]"
   ]
  },
  {
   "cell_type": "code",
   "execution_count": 26,
   "metadata": {},
   "outputs": [
    {
     "name": "stdout",
     "output_type": "stream",
     "text": [
      "74803.87226270542\n",
      "76832\n"
     ]
    }
   ],
   "source": [
    "std = 14\n",
    "n = 10000\n",
    "distG = scipy.stats.norm(loc =0 , scale=std)\n",
    "draws = distG.rvs(n)\n",
    "\n",
    "def fun(x):\n",
    "    return pow(x,3) * np.sqrt(np.pi/2) * std\n",
    "\n",
    "\n",
    "integral = np.mean(fun(np.abs(draws)))\n",
    "\n",
    "print(integral)\n",
    "print(2*pow(std,4))\n",
    "\n",
    "#plt.hist(abs(draws));"
   ]
  },
  {
   "cell_type": "code",
   "execution_count": null,
   "metadata": {},
   "outputs": [],
   "source": []
  }
 ],
 "metadata": {
  "kernelspec": {
   "display_name": "astr",
   "language": "python",
   "name": "python3"
  },
  "language_info": {
   "codemirror_mode": {
    "name": "ipython",
    "version": 3
   },
   "file_extension": ".py",
   "mimetype": "text/x-python",
   "name": "python",
   "nbconvert_exporter": "python",
   "pygments_lexer": "ipython3",
   "version": "3.8.18"
  }
 },
 "nbformat": 4,
 "nbformat_minor": 2
}
